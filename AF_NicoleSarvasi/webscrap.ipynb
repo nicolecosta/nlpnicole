{
 "cells": [
  {
   "cell_type": "code",
   "execution_count": 3,
   "metadata": {},
   "outputs": [],
   "source": [
    "import requests\n",
    "from bs4 import BeautifulSoup\n",
    "from collections import deque\n",
    "from urllib.parse import urljoin\n",
    "import json\n",
    "import os\n",
    "import re"
   ]
  },
  {
   "cell_type": "code",
   "execution_count": 9,
   "metadata": {},
   "outputs": [
    {
     "name": "stdout",
     "output_type": "stream",
     "text": [
      "[<a class=\"text-xl font-bold text-slate-50 hover:text-slate-800\" href=\"https://thepromptreport.beehiiv.com/subscribe\" rel=\"noreferrer\" target=\"_blank\">The Prompt Report</a>, <a class=\"text-sm text-center font-light text-slate-50 dark:text-white-400 md:w-1/2 hover:text-slate-800\" href=\"https://thepromptreport.beehiiv.com/subscribe\" rel=\"noreferrer\" target=\"_blank\">Weekly newsletter on all things prompts - from jailbreaks to prompt engineering to prompt news. Read by 8,000+ others at places like Google, Tesla, Microsoft, a16z, and more.</a>, <a class=\"text-xs text-slate-500 hover:text-slate-800\" href=\"https://alexalbert.me\" rel=\"noreferrer\" target=\"_blank\">by @alexalbert </a>, <a class=\"bg-transparent border-2 border-gray-700 rounded text-gray-700 px-4 whitespace-nowrap py-2 w-min hover:bg-gray-300\" href=\"#\">Sign in</a>, <a href=\"/privacy\">Privacy Policy</a>]\n",
      "You do not have access to thepromptreport.beehiiv.com.\n",
      "[<a class=\"text-xl font-bold text-slate-50 hover:text-slate-800\" href=\"https://thepromptreport.beehiiv.com/subscribe\" rel=\"noreferrer\" target=\"_blank\">The Prompt Report</a>, <a class=\"text-sm text-center font-light text-slate-50 dark:text-white-400 md:w-1/2 hover:text-slate-800\" href=\"https://thepromptreport.beehiiv.com/subscribe\" rel=\"noreferrer\" target=\"_blank\">Weekly newsletter on all things prompts - from jailbreaks to prompt engineering to prompt news. Read by 8,000+ others at places like Google, Tesla, Microsoft, a16z, and more.</a>, <a class=\"text-xs text-slate-500 hover:text-slate-800\" href=\"https://alexalbert.me\" rel=\"noreferrer\" target=\"_blank\">by @alexalbert </a>, <a class=\"bg-transparent border-2 border-gray-700 rounded text-gray-700 px-4 whitespace-nowrap py-2 w-min hover:bg-gray-300\" href=\"#\">Sign in</a>, <a href=\"/privacy\">Privacy Policy</a>]\n",
      "You do not have access to thepromptreport.beehiiv.com.\n",
      "[<a class=\"text-xl font-bold text-slate-50 hover:text-slate-800\" href=\"https://thepromptreport.beehiiv.com/subscribe\" rel=\"noreferrer\" target=\"_blank\">The Prompt Report</a>, <a class=\"text-sm text-center font-light text-slate-50 dark:text-white-400 md:w-1/2 hover:text-slate-800\" href=\"https://thepromptreport.beehiiv.com/subscribe\" rel=\"noreferrer\" target=\"_blank\">Weekly newsletter on all things prompts - from jailbreaks to prompt engineering to prompt news. Read by 8,000+ others at places like Google, Tesla, Microsoft, a16z, and more.</a>, <a class=\"text-xs text-slate-500 hover:text-slate-800\" href=\"https://alexalbert.me\" rel=\"noreferrer\" target=\"_blank\">by @alexalbert </a>, <a class=\"bg-transparent border-2 border-gray-700 rounded text-gray-700 px-4 whitespace-nowrap py-2 w-min hover:bg-gray-300\" href=\"#\">Sign in</a>, <a href=\"/privacy\">Privacy Policy</a>]\n",
      "Hi, my name is Alex Albert.\n",
      "[<a class=\"text-xl font-bold text-slate-50 hover:text-slate-800\" href=\"https://thepromptreport.beehiiv.com/subscribe\" rel=\"noreferrer\" target=\"_blank\">The Prompt Report</a>, <a class=\"text-sm text-center font-light text-slate-50 dark:text-white-400 md:w-1/2 hover:text-slate-800\" href=\"https://thepromptreport.beehiiv.com/subscribe\" rel=\"noreferrer\" target=\"_blank\">Weekly newsletter on all things prompts - from jailbreaks to prompt engineering to prompt news. Read by 8,000+ others at places like Google, Tesla, Microsoft, a16z, and more.</a>, <a class=\"text-xs text-slate-500 hover:text-slate-800\" href=\"https://alexalbert.me\" rel=\"noreferrer\" target=\"_blank\">by @alexalbert </a>, <a class=\"bg-transparent border-2 border-gray-700 rounded text-gray-700 px-4 whitespace-nowrap py-2 w-min hover:bg-gray-300\" href=\"#\">Sign in</a>, <a href=\"/privacy\">Privacy Policy</a>]\n",
      "No <p> tag found in the HTML.\n",
      "[<a class=\"text-xl font-bold text-slate-50 hover:text-slate-800\" href=\"https://thepromptreport.beehiiv.com/subscribe\" rel=\"noreferrer\" target=\"_blank\">The Prompt Report</a>, <a class=\"text-sm text-center font-light text-slate-50 dark:text-white-400 md:w-1/2 hover:text-slate-800\" href=\"https://thepromptreport.beehiiv.com/subscribe\" rel=\"noreferrer\" target=\"_blank\">Weekly newsletter on all things prompts - from jailbreaks to prompt engineering to prompt news. Read by 8,000+ others at places like Google, Tesla, Microsoft, a16z, and more.</a>, <a class=\"text-xs text-slate-500 hover:text-slate-800\" href=\"https://alexalbert.me\" rel=\"noreferrer\" target=\"_blank\">by @alexalbert </a>, <a class=\"bg-transparent border-2 border-gray-700 rounded text-gray-700 px-4 whitespace-nowrap py-2 w-min hover:bg-gray-300\" href=\"#\">Sign in</a>, <a href=\"/privacy\">Privacy Policy</a>]\n",
      "No <p> tag found in the HTML.\n"
     ]
    }
   ],
   "source": [
    "url_regex = re.compile(\n",
    "r'^(?:http|https):\\/\\/',\n",
    "re.IGNORECASE\n",
    ")\n",
    "\n",
    "# Define a página web a ser analisada\n",
    "url = 'https://www.jailbreakchat.com/'\n",
    "\n",
    "res = requests.get(url)\n",
    "soup_queue = BeautifulSoup(res.content, 'html.parser')\n",
    "\n",
    "# Inicia a fila com o elemento raiz\n",
    "queue = deque([soup_queue])\n",
    "\n",
    "# Enquanto houver elementos na fila\n",
    "while queue:\n",
    "    # Remove o próximo elemento da fila\n",
    "    current_element= queue.popleft()\n",
    "    \n",
    "    # Procura todos os links no elemento atual\n",
    "    links = current_element.find_all('a')\n",
    "    \n",
    "    # Adiciona todos os elementos encontrados na fila\n",
    "    for link in links:\n",
    "        print(links)\n",
    "        #Obtem o valor do atributo href do link\n",
    "        href = link.get('href')\n",
    "        \n",
    "        # Verifica se o link é diferente de None e começa com \"https\" ou \"http\"\n",
    "        if href and (href.startswith('https') or href.startswith('http')):\n",
    "            # Se já começar com \"https\" ou \"http\", utiliza o link sem modificação\n",
    "            final_link = href\n",
    "        else:\n",
    "            # Se não começar com \"https\" ou \"http\", adiciona \"https://\" antes do link\n",
    "            final_link = urljoin(url, href)\n",
    "\n",
    "        if url_regex.match(final_link):\n",
    "            valid_link = final_link\n",
    "            #list_link.append(valid_link)\n",
    "        \n",
    "        # Faz a requisição do conteúdo da página\n",
    "        response = requests.get(valid_link)\n",
    "\n",
    "        # Cria o objeto Beautiful Soup\n",
    "        soup = BeautifulSoup(response.content, 'html.parser')\n",
    "\n",
    "        # Find the first occurrence of <p> tag and get its text\n",
    "        p_tag = soup.find('p')\n",
    "        if p_tag is not None:\n",
    "            p_text = p_tag.text\n",
    "            print(p_text)\n",
    "        else:\n",
    "            print(\"No <p> tag found in the HTML.\")\n"
   ]
  },
  {
   "cell_type": "code",
   "execution_count": null,
   "metadata": {},
   "outputs": [],
   "source": []
  }
 ],
 "metadata": {
  "kernelspec": {
   "display_name": "Python 3",
   "language": "python",
   "name": "python3"
  },
  "language_info": {
   "codemirror_mode": {
    "name": "ipython",
    "version": 3
   },
   "file_extension": ".py",
   "mimetype": "text/x-python",
   "name": "python",
   "nbconvert_exporter": "python",
   "pygments_lexer": "ipython3",
   "version": "3.10.11"
  },
  "orig_nbformat": 4
 },
 "nbformat": 4,
 "nbformat_minor": 2
}
