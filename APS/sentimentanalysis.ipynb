{
 "cells": [
  {
   "cell_type": "code",
   "execution_count": null,
   "metadata": {},
   "outputs": [],
   "source": [
    "import pandas as pd\n",
    "import joblib\n",
    "from sklearn.model_selection import train_test_split\n",
    "from sklearn.pipeline import Pipeline\n",
    "from sklearn.feature_extraction.text import CountVectorizer\n",
    "from sklearn.linear_model import LogisticRegression"
   ]
  },
  {
   "cell_type": "code",
   "execution_count": null,
   "metadata": {},
   "outputs": [],
   "source": [
    "# # Load the IMDB dataset\n",
    "# df = pd.read_csv('IMDB Dataset.csv')"
   ]
  },
  {
   "cell_type": "code",
   "execution_count": null,
   "metadata": {},
   "outputs": [],
   "source": [
    "# # Convert the \"sentiment\" column to a numeric scale between -1 and 1\n",
    "# df['sentiment'] = df['sentiment'].map({'positive': 1, 'negative': -1})"
   ]
  },
  {
   "cell_type": "code",
   "execution_count": null,
   "metadata": {},
   "outputs": [],
   "source": [
    "# # Split the dataset into training and testing sets\n",
    "# X_train, X_test, y_train, y_test = train_test_split(df['review'], df['sentiment'], test_size=0.2, stratify=df['sentiment'])"
   ]
  },
  {
   "cell_type": "code",
   "execution_count": null,
   "metadata": {},
   "outputs": [],
   "source": [
    "# # Define a pipeline with CountVectorizer and Logistic Regression\n",
    "# pipeline = Pipeline([\n",
    "#     ('vectorizer', CountVectorizer()),\n",
    "#     ('classifier', LogisticRegression(penalty='l2', solver='saga', max_iter=10000))\n",
    "# ])\n"
   ]
  },
  {
   "cell_type": "code",
   "execution_count": null,
   "metadata": {},
   "outputs": [],
   "source": [
    "# # Train the pipeline on the training set\n",
    "# pipeline.fit(X_train, y_train)\n",
    "\n",
    "# # Evaluate the pipeline on the testing set\n",
    "# score = pipeline.score(X_test, y_test)\n",
    "# print('Accuracy:', score)\n",
    "\n",
    "#Accuracy: 89%"
   ]
  },
  {
   "cell_type": "code",
   "execution_count": null,
   "metadata": {},
   "outputs": [],
   "source": [
    "# Save the trained pipeline to disk\n",
    "# joblib.dump(pipeline, 'modelo.joblib')"
   ]
  },
  {
   "cell_type": "code",
   "execution_count": null,
   "metadata": {},
   "outputs": [],
   "source": [
    "# Load the saved pipeline from disk\n",
    "pipeline = joblib.load('modelo.joblib')"
   ]
  },
  {
   "cell_type": "code",
   "execution_count": null,
   "metadata": {},
   "outputs": [],
   "source": [
    "# Classify a new review and get its probability\n",
    "new_review = \"planets are fun\"\n",
    "probability = pipeline.predict_proba([new_review])[0][1]\n",
    "\n",
    "# Convert the probability to a polarity value between -1 and 1\n",
    "polarity = (2 * probability) - 1\n",
    "\n",
    "print('Polarity:', polarity)"
   ]
  }
 ],
 "metadata": {
  "language_info": {
   "name": "python"
  },
  "orig_nbformat": 4
 },
 "nbformat": 4,
 "nbformat_minor": 2
}
